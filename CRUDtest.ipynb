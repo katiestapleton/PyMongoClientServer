{
 "cells": [
  {
   "cell_type": "code",
   "execution_count": 18,
   "metadata": {},
   "outputs": [
    {
     "name": "stdout",
     "output_type": "stream",
     "text": [
      "connected to mongoDB\n"
     ]
    }
   ],
   "source": [
    "from aac_animals_CRUD_updated import AnimalShelterCRUD\n",
    "\n",
    "\n",
    "class TestAnimalShelterCRUD:\n",
    "    \n",
    "    run =  AnimalShelterCRUD()"
   ]
  },
  {
   "cell_type": "code",
   "execution_count": 8,
   "metadata": {
    "scrolled": true
   },
   "outputs": [
    {
     "name": "stdout",
     "output_type": "stream",
     "text": [
      "connected to mongoDB\n",
      "Data query failed. Please check the search parameters. Data may not be located within the system.\n"
     ]
    }
   ],
   "source": [
    "from aac_animals_CRUD_updated import AnimalShelterCRUD\n",
    "\n",
    "\n",
    "class TestAnimalShelterCRUD:\n",
    "    \n",
    "    run =  AnimalShelterCRUD()\n",
    "    \n",
    "    search = None\n",
    "    \n",
    "    findData =  run.ReadDoc(search)\n",
    "    print(findData)"
   ]
  },
  {
   "cell_type": "code",
   "execution_count": 7,
   "metadata": {},
   "outputs": [
    {
     "name": "stdout",
     "output_type": "stream",
     "text": [
      "connected to mongoDB\n",
      "<pymongo.cursor.Cursor object at 0x7f8cf0b4fac8>\n"
     ]
    }
   ],
   "source": [
    "from aac_animals_CRUD_updated import AnimalShelterCRUD\n",
    "\n",
    "\n",
    "class TestAnimalShelterCRUD:\n",
    "    \n",
    "    run =  AnimalShelterCRUD()\n",
    "    \n",
    "    search = {\"breed\" : \"Beagle\"}\n",
    "    \n",
    "    findData =  run.ReadDoc(search)\n",
    "    print(findData)"
   ]
  },
  {
   "cell_type": "code",
   "execution_count": 1,
   "metadata": {},
   "outputs": [
    {
     "name": "stdout",
     "output_type": "stream",
     "text": [
      "connected to mongoDB\n",
      "False\n"
     ]
    }
   ],
   "source": [
    "from aac_animals_CRUD_updated import AnimalShelterCRUD\n",
    "\n",
    "\n",
    "class TestAnimalShelterCRUD:\n",
    "    \n",
    "    run =  AnimalShelterCRUD()\n",
    "    \n",
    "    userData = None\n",
    "    \n",
    "    addData =  run.AddDoc(userData)\n",
    "    print(addData)"
   ]
  },
  {
   "cell_type": "code",
   "execution_count": 5,
   "metadata": {},
   "outputs": [
    {
     "name": "stdout",
     "output_type": "stream",
     "text": [
      "connected to mongoDB\n",
      "True\n"
     ]
    }
   ],
   "source": [
    "from aac_animals_CRUD_updated import AnimalShelterCRUD\n",
    "\n",
    "\n",
    "class TestAnimalShelterCRUD:\n",
    "    \n",
    "    run =  AnimalShelterCRUD()\n",
    "    \n",
    "    userData = {}\n",
    "    \n",
    "    addData =  run.AddDoc(userData)\n",
    "    print(addData)"
   ]
  },
  {
   "cell_type": "code",
   "execution_count": 3,
   "metadata": {},
   "outputs": [
    {
     "name": "stdout",
     "output_type": "stream",
     "text": [
      "connected to mongoDB\n",
      "True\n"
     ]
    }
   ],
   "source": [
    "from aac_animals_CRUD_updated import AnimalShelterCRUD\n",
    "\n",
    "\n",
    "class TestAnimalShelterCRUD:\n",
    "    \n",
    "    run =  AnimalShelterCRUD()\n",
    "    \n",
    "    userData = {\n",
    "        \"age_upon_outcome\" : \"3 years\",\n",
    "        \"animal_id\" : \"TEST001\",\n",
    "        \"animal_type\" : \"Test breed\",\n",
    "        \"breed\" : \"Test Cat Mix\",\n",
    "        \"color\" : \"Test Color Black\",\n",
    "        \"date_of_birth\" : \"2014-04-10\",\n",
    "        \"datetime\" : \"2017-04-11 09:00:00\",\n",
    "        \"monthyear\" : \"2017-04-11T09:00:00\",\n",
    "        \"name\" : \"Complex name\",\n",
    "        \"outcome_subtype\"  : \"SCRP\",\n",
    "        \"outcome_type\" : \"Transfer\",\n",
    "        \"sex_upon_outcome\" : \"Neutered Male\",\n",
    "        \"location_lat\" : 35.625439455,\n",
    "        \"location_long\" : -96.3435972102188,\n",
    "        \"age_upon_outcome_in_weeks\"  : 156.767857142857\n",
    "    }\n",
    "    \n",
    "    addData =  run.AddDoc(userData)\n",
    "    print(addData)"
   ]
  },
  {
   "cell_type": "code",
   "execution_count": null,
   "metadata": {},
   "outputs": [],
   "source": []
  }
 ],
 "metadata": {
  "kernelspec": {
   "display_name": "Python 3",
   "language": "python",
   "name": "python3"
  },
  "language_info": {
   "codemirror_mode": {
    "name": "ipython",
    "version": 3
   },
   "file_extension": ".py",
   "mimetype": "text/x-python",
   "name": "python",
   "nbconvert_exporter": "python",
   "pygments_lexer": "ipython3",
   "version": "3.6.9"
  }
 },
 "nbformat": 4,
 "nbformat_minor": 2
}
