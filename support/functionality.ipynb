{
 "cells": [
  {
   "cell_type": "code",
   "execution_count": 1,
   "source": [
    "# full CRUD application.\r\n",
    "# will not be full assembled until each function is tested"
   ],
   "outputs": [],
   "metadata": {}
  },
  {
   "cell_type": "code",
   "execution_count": 1,
   "source": [
    "# test data table filter - cat vs dog\r\n",
    "from jupyter_plotly_dash import JupyterDash\r\n",
    "import dash_core_components as dcc\r\n",
    "import dash_html_components as html\r\n",
    "import dash\r\n",
    "from dash.dependencies import Input, Output, State\r\n",
    "from pymongo import MongoClient\r\n",
    "import urllib.parse\r\n",
    "from bson.json_util import dumps\r\n",
    "import pandas\r\n",
    "import numpy\r\n",
    "import dash_table\r\n",
    "import plotly.express as plotly\r\n",
    "from aac_animals_CRUD_updated import AnimalShelterCRUD\r\n",
    "\r\n",
    "\r\n",
    "# this is a juypter dash application\r\n",
    "app = JupyterDash('ModuleFive')\r\n",
    "\r\n",
    "\r\n",
    "shelter = AnimalShelterCRUD()\r\n",
    "df = pandas.DataFrame.from_records(shelter.ReadDoc({}))\r\n",
    "\r\n",
    "\r\n",
    "app.layout = html.Div([\r\n",
    "    \r\n",
    "    \r\n",
    "    # filter buttons\r\n",
    "    html.Div(className='row',\r\n",
    "             style={'display' : \"flex\"},\r\n",
    "                 children=[\r\n",
    "                     html.Button(id=\"submit-CatButton\", n_clicks=0, children=\"Cats\"),\r\n",
    "                     html.Button(id=\"submit-DogButton\", n_clicks=0, children=\"Dogs\")\r\n",
    "                 ]\r\n",
    "    ),\r\n",
    "    \r\n",
    "    # data table\r\n",
    "    dash_table.DataTable(\r\n",
    "        \r\n",
    "        id=\"animalData\",\r\n",
    "        # ?? change \"id\" ??\r\n",
    "        columns=[{\"name\": i, \"id\": i, \"deletable\": False, \"selectable\": True} \r\n",
    "                 for i in df.columns],\r\n",
    "        data=df.to_dict('records'), \r\n",
    "                \r\n",
    "        # editting\r\n",
    "        editable=False,\r\n",
    "                \r\n",
    "        # filter & sort\r\n",
    "        filter_action=\"native\",\r\n",
    "        sort_action=\"native\",\r\n",
    "        sort_mode=\"multi\",\r\n",
    "                \r\n",
    "        # row\r\n",
    "        row_selectable=True,\r\n",
    "        row_deletable=True,\r\n",
    "      \r\n",
    "        # page setup\r\n",
    "        page_action=\"native\",\r\n",
    "        page_current= 0,\r\n",
    "        page_size= 15\r\n",
    "    ),\r\n",
    "])\r\n",
    "\r\n",
    "# this is area to define application responses or callback routines\r\n",
    "# this one callback will take the entered text and if the submit button is clicked then call the \r\n",
    "#  mongo database with the find_one query and return the result to the output div\r\n",
    "\r\n",
    "# callback for cat/dog filter for data table\r\n",
    "@app.callback(\r\n",
    "    Output(\"animalData\", \"data\"),\r\n",
    "    [Input(\"submit-CatButton\", \"n_clicks\"), \r\n",
    "     Input(\"submit-DogButton\", \"n_clicks\"),\r\n",
    "    ])\r\n",
    "\r\n",
    "def catDogFilter(CatButton,DogButton):\r\n",
    "    if (int(CatButton)>0):\r\n",
    "        df = pandas.DataFrame.from_records(shelter.ReadDoc({\"animal_type\" : \"Cat\"}))\r\n",
    "        n_clicks = 0\r\n",
    "    elif (int(DogButton)>0):\r\n",
    "        df = pandas.DataFrame.from_records(shelter.ReadDoc({\"animal_type\" : \"Dog\"}))\r\n",
    "        n_clicks = 0\r\n",
    "    else:\r\n",
    "        df = pandas.DataFrame.from_records(shelter.ReadDoc({}))\r\n",
    "        # note that MongoDB returns BSON, the pyMongo JSON utility function dumps is used to convert to text\r\n",
    "    return df.to_dict(\"records\")\r\n",
    "\r\n",
    "# !!do not remove!!\r\n",
    "app"
   ],
   "outputs": [
    {
     "output_type": "error",
     "ename": "TypeError",
     "evalue": "__init__() missing 2 required positional arguments: 'userName' and 'password'",
     "traceback": [
      "\u001b[0;31m---------------------------------------------------------------------------\u001b[0m",
      "\u001b[0;31mTypeError\u001b[0m                                 Traceback (most recent call last)",
      "\u001b[0;32m<ipython-input-1-8cb7aebf3e87>\u001b[0m in \u001b[0;36m<module>\u001b[0;34m\u001b[0m\n\u001b[1;32m     19\u001b[0m \u001b[0;34m\u001b[0m\u001b[0m\n\u001b[1;32m     20\u001b[0m \u001b[0;34m\u001b[0m\u001b[0m\n\u001b[0;32m---> 21\u001b[0;31m \u001b[0mshelter\u001b[0m \u001b[0;34m=\u001b[0m \u001b[0mAnimalShelterCRUD\u001b[0m\u001b[0;34m(\u001b[0m\u001b[0;34m)\u001b[0m\u001b[0;34m\u001b[0m\u001b[0;34m\u001b[0m\u001b[0m\n\u001b[0m\u001b[1;32m     22\u001b[0m \u001b[0mdf\u001b[0m \u001b[0;34m=\u001b[0m \u001b[0mpandas\u001b[0m\u001b[0;34m.\u001b[0m\u001b[0mDataFrame\u001b[0m\u001b[0;34m.\u001b[0m\u001b[0mfrom_records\u001b[0m\u001b[0;34m(\u001b[0m\u001b[0mshelter\u001b[0m\u001b[0;34m.\u001b[0m\u001b[0mReadDoc\u001b[0m\u001b[0;34m(\u001b[0m\u001b[0;34m{\u001b[0m\u001b[0;34m}\u001b[0m\u001b[0;34m)\u001b[0m\u001b[0;34m)\u001b[0m\u001b[0;34m\u001b[0m\u001b[0;34m\u001b[0m\u001b[0m\n\u001b[1;32m     23\u001b[0m \u001b[0;34m\u001b[0m\u001b[0m\n",
      "\u001b[0;31mTypeError\u001b[0m: __init__() missing 2 required positional arguments: 'userName' and 'password'"
     ]
    }
   ],
   "metadata": {
    "scrolled": true
   }
  },
  {
   "cell_type": "code",
   "execution_count": 6,
   "source": [
    "#test Mongo username/password\r\n",
    "# able to access data.\r\n",
    "# do I need to test init??\r\n",
    "#unsure how to associate user/password with mongo since is init(self,)"
   ],
   "outputs": [],
   "metadata": {}
  },
  {
   "cell_type": "code",
   "execution_count": 2,
   "source": [
    "# test AddDoc function\r\n",
    "# data table filter - cat vs dog\r\n",
    "from jupyter_plotly_dash import JupyterDash\r\n",
    "import dash_core_components as dcc\r\n",
    "import dash_html_components as html\r\n",
    "import dash\r\n",
    "from dash.dependencies import Input, Output, State\r\n",
    "from pymongo import MongoClient\r\n",
    "import urllib.parse\r\n",
    "from bson.json_util import dumps\r\n",
    "import pandas\r\n",
    "import numpy\r\n",
    "import dash_table\r\n",
    "import plotly.express as plotly\r\n",
    "from aac_animals_CRUD_updated import AnimalShelterCRUD\r\n",
    "\r\n",
    "\r\n",
    "# this is a juypter dash application\r\n",
    "app = JupyterDash('ModuleFive')\r\n",
    "\r\n",
    "shelter = AnimalShelterCRUD()\r\n",
    "df = pandas.DataFrame.from_records(shelter.ReadDoc({}))\r\n",
    "\r\n",
    "    # mockup document/data for testing\r\n",
    "userData = {\r\n",
    "        \"animal_type\" : \"dog\",\r\n",
    "        \"name\" : \"Complex name\"\r\n",
    "}\r\n",
    "    \r\n",
    "app.layout=html.Div([\r\n",
    "    \r\n",
    "    # Input: AddDoc\r\n",
    "    dcc.Input(\r\n",
    "        id=\"input_addData\".format(\"text\"),\r\n",
    "        type=\"text\",\r\n",
    "        placeholder=(\"Enter data to add\")),\r\n",
    "    html.Button('Add Data', id=\"submit_addData\", n_clicks=0),\r\n",
    "    \r\n",
    "    html.Div(id=\"output_addData\")\r\n",
    "    \r\n",
    "    \r\n",
    "    # data table\r\n",
    "    \r\n",
    "])\r\n",
    "\r\n",
    "# callback for AddDoc\r\n",
    "@app.callback(\r\n",
    "    Output(\"output_addData\", \"children\"),\r\n",
    "    [Input(\"input_addData\", \"value\"), \r\n",
    "     Input(\"submit_addData\", \"n_clicks\")],\r\n",
    ")\r\n",
    "\r\n",
    "def CreateDocRender(addData, n_clicks):\r\n",
    "    # addData = { \"age_upon_outcome\" : \"3 years\", \"animal_id\" : \"TEST001\", \"animal_type\" : \"Test breed\",\r\n",
    "    df = pandas.DataFrame.from_records(shelter.AddDoc(addData))\r\n",
    "    # return to output_addData html div??\r\n",
    "    return df.to_dict(\"records\")\r\n",
    "\r\n",
    "# !!do not remove!!\r\n",
    "app"
   ],
   "outputs": [
    {
     "output_type": "error",
     "ename": "TypeError",
     "evalue": "__init__() missing 2 required positional arguments: 'userName' and 'password'",
     "traceback": [
      "\u001b[0;31m---------------------------------------------------------------------------\u001b[0m",
      "\u001b[0;31mTypeError\u001b[0m                                 Traceback (most recent call last)",
      "\u001b[0;32m<ipython-input-2-60dd8e9479ff>\u001b[0m in \u001b[0;36m<module>\u001b[0;34m\u001b[0m\n\u001b[1;32m     19\u001b[0m \u001b[0mapp\u001b[0m \u001b[0;34m=\u001b[0m \u001b[0mJupyterDash\u001b[0m\u001b[0;34m(\u001b[0m\u001b[0;34m'ModuleFive'\u001b[0m\u001b[0;34m)\u001b[0m\u001b[0;34m\u001b[0m\u001b[0;34m\u001b[0m\u001b[0m\n\u001b[1;32m     20\u001b[0m \u001b[0;34m\u001b[0m\u001b[0m\n\u001b[0;32m---> 21\u001b[0;31m \u001b[0mshelter\u001b[0m \u001b[0;34m=\u001b[0m \u001b[0mAnimalShelterCRUD\u001b[0m\u001b[0;34m(\u001b[0m\u001b[0;34m)\u001b[0m\u001b[0;34m\u001b[0m\u001b[0;34m\u001b[0m\u001b[0m\n\u001b[0m\u001b[1;32m     22\u001b[0m \u001b[0mdf\u001b[0m \u001b[0;34m=\u001b[0m \u001b[0mpandas\u001b[0m\u001b[0;34m.\u001b[0m\u001b[0mDataFrame\u001b[0m\u001b[0;34m.\u001b[0m\u001b[0mfrom_records\u001b[0m\u001b[0;34m(\u001b[0m\u001b[0mshelter\u001b[0m\u001b[0;34m.\u001b[0m\u001b[0mReadDoc\u001b[0m\u001b[0;34m(\u001b[0m\u001b[0;34m{\u001b[0m\u001b[0;34m}\u001b[0m\u001b[0;34m)\u001b[0m\u001b[0;34m)\u001b[0m\u001b[0;34m\u001b[0m\u001b[0;34m\u001b[0m\u001b[0m\n\u001b[1;32m     23\u001b[0m \u001b[0;34m\u001b[0m\u001b[0m\n",
      "\u001b[0;31mTypeError\u001b[0m: __init__() missing 2 required positional arguments: 'userName' and 'password'"
     ]
    }
   ],
   "metadata": {}
  },
  {
   "cell_type": "code",
   "execution_count": 54,
   "source": [
    "# test ReadDoc function\r\n",
    "# data table filter - cat vs dog\r\n",
    "from jupyter_plotly_dash import JupyterDash\r\n",
    "import dash_core_components as dcc\r\n",
    "import dash_html_components as html\r\n",
    "import dash\r\n",
    "from dash.dependencies import Input, Output, State\r\n",
    "from pymongo import MongoClient\r\n",
    "import urllib.parse\r\n",
    "from bson.json_util import dumps\r\n",
    "import pandas\r\n",
    "import numpy\r\n",
    "import dash_table\r\n",
    "import plotly.express as plotly\r\n",
    "from aac_animals_CRUD_updated import AnimalShelterCRUD\r\n",
    "\r\n",
    "\r\n",
    "# this is a juypter dash application\r\n",
    "app = JupyterDash('ModuleFive')\r\n",
    "\r\n",
    "shelter = AnimalShelterCRUD()\r\n",
    "df = pandas.DataFrame.from_records(shelter.ReadDoc({}))\r\n",
    "\r\n",
    "app.layout=html.Div([\r\n",
    "    \r\n",
    "\r\n",
    "    # Input: ReadDoc\r\n",
    "    dcc.Input(\r\n",
    "        id=\"input_readData\",\r\n",
    "        type=\"text\",\r\n",
    "        placeholder=\"Enter data to search\"),\r\n",
    "    html.Button(\"Find Data\", id=\"submit_readData\", n_clicks=0),\r\n",
    "    \r\n",
    "    html.Div(id=\"output_readData\")\r\n",
    "    \r\n",
    "])\r\n",
    "\r\n",
    "# callback for ReadDoc\r\n",
    "@app.callback(\r\n",
    "    # ?? change output?? define output to pass to rendering??\r\n",
    "    Output(\"output_readData\", \"children\"),\r\n",
    "    [Input(\"input_readData\".format(\"text\"), \"value\"),\r\n",
    "     Input('submit_readData', 'n_clicks')]\r\n",
    ")\r\n",
    "\r\n",
    "def ReadDocRender(readData, n):\r\n",
    "    #readData= {\"animal_type\" : \"Dog\",\"name\" : \"Lucy\"}\r\n",
    "    n = 0;\r\n",
    "    df = pandas.DataFrame.from_records(shelter.ReadDoc(readData))\r\n",
    "    return df.to_dict(\"records\")\r\n",
    "\r\n",
    "# !!do not remove!!\r\n",
    "app"
   ],
   "outputs": [
    {
     "output_type": "stream",
     "name": "stdout",
     "text": [
      "connected to mongoDB\n"
     ]
    },
    {
     "output_type": "execute_result",
     "data": {
      "text/plain": [
       "<jupyter_plotly_dash.dash_wrapper.JupyterDash at 0x7f2e5bbc5ef0>"
      ],
      "text/html": [
       "<div>\n",
       "  <iframe src=\"/app/endpoints/25c0991c9df14286a1007ceaa7524e2a/\" width=800 height=600 frameborder=\"0\"></iframe>\n",
       "  <hr/><a href=\"/app/endpoints/25c0991c9df14286a1007ceaa7524e2a/\" target=\"_new\">Open in new window</a> for /app/endpoints/25c0991c9df14286a1007ceaa7524e2a/\n",
       "</div>"
      ]
     },
     "metadata": {},
     "execution_count": 54
    }
   ],
   "metadata": {}
  },
  {
   "cell_type": "code",
   "execution_count": 55,
   "source": [
    "# test UpdateDoc function\r\n",
    "# data table filter - cat vs dog\r\n",
    "from jupyter_plotly_dash import JupyterDash\r\n",
    "import dash_core_components as dcc\r\n",
    "import dash_html_components as html\r\n",
    "import dash\r\n",
    "from dash.dependencies import Input, Output, State\r\n",
    "from pymongo import MongoClient\r\n",
    "import urllib.parse\r\n",
    "from bson.json_util import dumps\r\n",
    "import pandas\r\n",
    "import numpy\r\n",
    "import dash_table\r\n",
    "import plotly.express as plotly\r\n",
    "from aac_animals_CRUD_updated import AnimalShelterCRUD\r\n",
    "\r\n",
    "\r\n",
    "# this is a juypter dash application\r\n",
    "app = JupyterDash('ModuleFive')\r\n",
    "\r\n",
    "shelter = AnimalShelterCRUD()\r\n",
    "df = pandas.DataFrame.from_records(shelter.ReadDoc({}))\r\n",
    "\r\n",
    "app.layout = html.Div([\r\n",
    "\r\n",
    "    # Input: UpdateDoc\r\n",
    "    dcc.Input(\r\n",
    "        id=\"input_updateDoc\".format(\"text\"),\r\n",
    "        type=\"text\",\r\n",
    "        placeholder=\"Enter document to update\"),\r\n",
    "    dcc.Input(\r\n",
    "        id=\"input_updateData\".format(\"text\"),\r\n",
    "        type=\"text\",\r\n",
    "        placeholder=\"Enter data to update\"),\r\n",
    "    html.Button(\"Update Data\", id=\"submit-updateData\", n_clicks=0),\r\n",
    "    \r\n",
    "    html.Div(id=\"output_UpdateData\")\r\n",
    "    \r\n",
    "])\r\n",
    "\r\n",
    "# callback for UpdateDoc\r\n",
    "@app.callback(\r\n",
    "    # ?? change output?? define output to pass to rendering??\r\n",
    "    Output(\"output_UpdateData\", \"children\"),\r\n",
    "    [Input(\"input_updateDoc\", \"value\"), \r\n",
    "     Input(\"input_updateData\",\"value\"),\r\n",
    "     Input(\"submit-updateData\", \"n_clicks\")],\r\n",
    ")\r\n",
    "\r\n",
    "def UpdateDocRender(updateDoc, updateData):\r\n",
    "    # updateDoc = {\"animal_id\" : \"A736551\"}\r\n",
    "    # updateData = {\"$set\":{\"name\":\"blue eyes\"}}\r\n",
    "    df = pandas.DataFrame.from_records(shelter.UpdateDoc(updateDoc, updateData))\r\n",
    "    # ??same return as cat/dog filter??\r\n",
    "    return df.to_dict(\"records\")\r\n",
    "    return 0\r\n",
    "    \r\n",
    "app"
   ],
   "outputs": [
    {
     "output_type": "stream",
     "name": "stdout",
     "text": [
      "connected to mongoDB\n"
     ]
    },
    {
     "output_type": "execute_result",
     "data": {
      "text/plain": [
       "<jupyter_plotly_dash.dash_wrapper.JupyterDash at 0x7f2e5a8a00b8>"
      ],
      "text/html": [
       "<div>\n",
       "  <iframe src=\"/app/endpoints/2496ac7891094c05aae1bb578dd716cc/\" width=800 height=600 frameborder=\"0\"></iframe>\n",
       "  <hr/><a href=\"/app/endpoints/2496ac7891094c05aae1bb578dd716cc/\" target=\"_new\">Open in new window</a> for /app/endpoints/2496ac7891094c05aae1bb578dd716cc/\n",
       "</div>"
      ]
     },
     "metadata": {},
     "execution_count": 55
    }
   ],
   "metadata": {}
  },
  {
   "cell_type": "code",
   "execution_count": 56,
   "source": [
    "# test DeleteDoc function\n",
    "# data table filter - cat vs dog\n",
    "from jupyter_plotly_dash import JupyterDash\n",
    "import dash_core_components as dcc\n",
    "import dash_html_components as html\n",
    "import dash\n",
    "from dash.dependencies import Input, Output, State\n",
    "from pymongo import MongoClient\n",
    "import urllib.parse\n",
    "from bson.json_util import dumps\n",
    "import pandas\n",
    "import numpy\n",
    "import dash_table\n",
    "import plotly.express as plotly\n",
    "from aac_animals_CRUD_updated import AnimalShelterCRUD\n",
    "\n",
    "\n",
    "# this is a juypter dash application\n",
    "app = JupyterDash('ModuleFive')\n",
    "\n",
    "shelter = AnimalShelterCRUD()\n",
    "df = pandas.DataFrame.from_records(shelter.ReadDoc({}))\n",
    "\n",
    "app.layout = html.Div([\n",
    "    \n",
    "    # Input: DeleteDoc\n",
    "    dcc.Input(\n",
    "        id=\"input_deleteData\".format(\"text\"),\n",
    "        type=\"text\",\n",
    "        placeholder=(\"Enter data to delete\")),\n",
    "    html.Button('Delete Data', id='submit-deleteData', n_clicks=0),\n",
    "    \n",
    "    html.Div(id=\"output_deleteData\")\n",
    "    \n",
    "    # DATA TABLE\n",
    "    \n",
    "])\n",
    "\n",
    "# callback for DeleteDoc\n",
    "@app.callback(\n",
    "    Output(\"output_deleteData\", \"children\"),\n",
    "    [Input(\"input_deleteData\".format(\"text\"), \"value\"), \n",
    "     Input(\"submit-deleteData\", 'n_clicks')],\n",
    ")\n",
    "\n",
    "def DeleteDocRender(deleteData):\n",
    "    #deleteData = {\"animal_id\" : \"TEST001\"}\n",
    "    df = pandas.DataFrame.from_records(shelter.DeleteDoc({deleteData}))\n",
    "    # ??same return as cat/dog filter??\n",
    "    return df.to_dict(\"records\")\n",
    "\n",
    "\n",
    "app"
   ],
   "outputs": [
    {
     "output_type": "stream",
     "name": "stdout",
     "text": [
      "connected to mongoDB\n"
     ]
    },
    {
     "output_type": "execute_result",
     "data": {
      "text/plain": [
       "<jupyter_plotly_dash.dash_wrapper.JupyterDash at 0x7f2e5b7f1860>"
      ],
      "text/html": [
       "<div>\n",
       "  <iframe src=\"/app/endpoints/5e923bbb1c444372aae58029f848db99/\" width=800 height=600 frameborder=\"0\"></iframe>\n",
       "  <hr/><a href=\"/app/endpoints/5e923bbb1c444372aae58029f848db99/\" target=\"_new\">Open in new window</a> for /app/endpoints/5e923bbb1c444372aae58029f848db99/\n",
       "</div>"
      ]
     },
     "metadata": {},
     "execution_count": 56
    }
   ],
   "metadata": {}
  },
  {
   "cell_type": "code",
   "execution_count": null,
   "source": [],
   "outputs": [],
   "metadata": {}
  }
 ],
 "metadata": {
  "kernelspec": {
   "name": "python3",
   "display_name": "Python 3.9.6 64-bit"
  },
  "language_info": {
   "codemirror_mode": {
    "name": "ipython",
    "version": 3
   },
   "file_extension": ".py",
   "mimetype": "text/x-python",
   "name": "python",
   "nbconvert_exporter": "python",
   "pygments_lexer": "ipython3",
   "version": "3.9.6"
  },
  "interpreter": {
   "hash": "63fd5069d213b44bf678585dea6b12cceca9941eaf7f819626cde1f2670de90d"
  }
 },
 "nbformat": 4,
 "nbformat_minor": 4
}